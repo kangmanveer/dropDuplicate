{
 "cells": [
  {
   "cell_type": "code",
   "execution_count": 14,
   "metadata": {},
   "outputs": [],
   "source": [
    "#importing pandas package\n",
    "import pandas as pd"
   ]
  },
  {
   "cell_type": "code",
   "execution_count": 15,
   "metadata": {},
   "outputs": [],
   "source": [
    "#defining path of the mock files that were developed using mockaroo.com\n",
    "file_name_1=\"C:/Users/kangm/Desktop/dropDuplicate/MOCK_DATA_1.csv\"\n",
    "file_name_2=\"C:/Users/kangm/Desktop/dropDuplicate/MOCK_DATA_2.csv\"\n",
    "file_name_3=\"C:/Users/kangm/Desktop/dropDuplicate/MOCK_DATA_3.csv\"\n",
    "file_name_output=\"C:/Users/kangm/Desktop/dropDuplicate/MOCK_DATA_OP.csv\""
   ]
  },
  {
   "cell_type": "code",
   "execution_count": 16,
   "metadata": {},
   "outputs": [],
   "source": [
    "#reading files using dataframe\n",
    "df1 = pd.read_csv(file_name_1)\n",
    "df2 = pd.read_csv(file_name_2)\n",
    "df3 = pd.read_csv(file_name_3)"
   ]
  },
  {
   "cell_type": "code",
   "execution_count": 17,
   "metadata": {},
   "outputs": [],
   "source": [
    "#checking duplicates in each file and eliminating\n",
    "df = pd.concat([df1, df2, df3]).drop_duplicates()\n",
    "\n",
    "#df.drop_duplicates(subset = None, inplace = True)"
   ]
  },
  {
   "cell_type": "code",
   "execution_count": 18,
   "metadata": {},
   "outputs": [],
   "source": [
    "#writing result in a different output file\n",
    "df.to_csv(file_name_output, index = False)"
   ]
  },
  {
   "cell_type": "code",
   "execution_count": null,
   "metadata": {},
   "outputs": [],
   "source": []
  }
 ],
 "metadata": {
  "kernelspec": {
   "display_name": "Python 3",
   "language": "python",
   "name": "python3"
  },
  "language_info": {
   "codemirror_mode": {
    "name": "ipython",
    "version": 3
   },
   "file_extension": ".py",
   "mimetype": "text/x-python",
   "name": "python",
   "nbconvert_exporter": "python",
   "pygments_lexer": "ipython3",
   "version": "3.7.6"
  }
 },
 "nbformat": 4,
 "nbformat_minor": 4
}
